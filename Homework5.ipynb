{
 "cells": [
  {
   "cell_type": "code",
   "execution_count": 11,
   "metadata": {
    "collapsed": false
   },
   "outputs": [],
   "source": [
    "import numpy as np\n",
    "from numpy import linalg as LA\n",
    "from numpy.linalg import inv\n",
    "from scipy import linalg\n",
    "def makeA(lowerdiag,maindiag,upperdiag, length):\n",
    "    main = np.ones(length)*maindiag\n",
    "    upper = np.ones(length-1)*lowerdiag\n",
    "    lower = np.ones(length-1)*upperdiag\n",
    "    return np.diagflat(main) + np.diagflat(upper, 1) + np.diagflat(lower, -1)"
   ]
  },
  {
   "cell_type": "code",
   "execution_count": 10,
   "metadata": {
    "collapsed": false
   },
   "outputs": [
    {
     "name": "stdout",
     "output_type": "stream",
     "text": [
      "condition number = 4133.6429268\n"
     ]
    },
    {
     "data": {
      "image/png": "[encoded data removed]",
      "text/plain": [
       "<matplotlib.figure.Figure at 0x116c2518>"
      ]
     },
     "metadata": {},
     "output_type": "display_data"
    }
   ],
   "source": [
    "#Problem 1 solving a tridiagonal system of equations\n",
    "x =np.linspace(0.0, 99.0, num=100)\n",
    "maindiag = np.ones(100)*2\n",
    "upperdiag = np.ones(99)*-1\n",
    "lowerdiag = np.ones(99)*-1\n",
    "A1 = makeA(-1,2,-1,100)\n",
    "b1 = np.fromfunction(lambda i, j: i, (100, 1), dtype=int)\n",
    "condition = LA.cond(A1)\n",
    "explicit = np.dot(inv(A1), b1)\n",
    "numerical = linalg.solve(A1,b1)\n",
    "%matplotlib inline\n",
    "import matplotlib.pyplot as plt\n",
    "plt.plot(x, explicit, 'b')\n",
    "plt.plot(x, numerical, 'g')\n",
    "plt.legend((\"Explicit\", \"Numerical\"), loc=\"upper right\")\n",
    "plt.xlabel(\"i\")\n",
    "plt.ylabel(\"xi\")\n",
    "print \"condition number = \" + str(condition)"
   ]
  },
  {
   "cell_type": "code",
   "execution_count": 3,
   "metadata": {
    "collapsed": false
   },
   "outputs": [],
   "source": [
    "def jacobi(A,x,b,tol=0.000001,sc= 0.000001,iteration = 1000): \n",
    "    # A,x,b - matrices defining the problem\n",
    "    # tol - absolute tolerance for convergence (default set to 10^-6)\n",
    "    # sc - stopping criterion (relative error) for convergence (default set to 10^-6)\n",
    "    # iteration - (optional) choose how many iterations to run\n",
    "    # iteration will stop at the first condition that is satisfied whether it be \n",
    "    # absolute tolerance or stopping criterion. \n",
    "    # If you want to pick a specific criteria for convergence,set the others to -1\n",
    "    xnew = np.copy(x)\n",
    "    conv = np.ones(np.size(x))\n",
    "    rel = np.ones(np.size(x))\n",
    "    iterations = 0\n",
    "    while np.amax(conv) > tol and np.amax(rel) > sc and iterations != iteration:\n",
    "        xold = np.copy(xnew)\n",
    "        iterations = iterations + 1\n",
    "        for i in range(np.size(x)):\n",
    "            firstsum = 0\n",
    "            secondsum = 0\n",
    "            for j in range(0, i):\n",
    "                firstsum = firstsum + A[i][j]*xold[j]\n",
    "            for j in range(i+1, np.size(x)):\n",
    "                secondsum = secondsum + A[i][j]*xold[j]\n",
    "            xnew[i] = 1.0/A[i][i]*(b[i] - firstsum - secondsum)\n",
    "        for i in range(0, np.size(x)):\n",
    "            conv[i] = abs(xnew[i] - xold[i])\n",
    "            rel[i] = abs(xnew[i] - xold[i])/(xnew[i])\n",
    "    return xnew, iterations"
   ]
  },
  {
   "cell_type": "code",
   "execution_count": 4,
   "metadata": {
    "collapsed": false
   },
   "outputs": [],
   "source": [
    "def Gausseidel(A,x,b,tol=0.000001,sc=0.000001,iteration = 1000):\n",
    "    # A,x,b - matrices defining the problem\n",
    "    # tol - absolute tolerance for convergence (default set to 10^-6)\n",
    "    # sc - stopping criterion (relative error) for convergence (default set to 10^-6)\n",
    "    # iteration - (optional) choose how many iterations to run\n",
    "    # iteration will stop at the first condition that is satisfied whether it be \n",
    "    # absolute tolerance or stopping criterion. \n",
    "    # If you want to pick a specific criteria for convergence,set the others to -1\n",
    "    xnew = np.copy(x)\n",
    "    conv = np.ones(np.size(x))\n",
    "    rel = np.ones(np.size(x))\n",
    "    iterations = 0\n",
    "    while np.amax(conv) > tol and np.amax(rel) > sc and iterations != iteration:\n",
    "        xold = np.copy(xnew)\n",
    "        iterations = iterations + 1\n",
    "        for i in range(np.size(x)):\n",
    "            firstsum = 0\n",
    "            secondsum = 0\n",
    "            for j in range(0, i):\n",
    "                firstsum = firstsum + A[i][j]*xnew[j]\n",
    "            for j in range(i+1, np.size(x)):\n",
    "                secondsum = secondsum + A[i][j]*xold[j]\n",
    "            xnew[i] = 1.0/A[i][i]*(b[i] - firstsum - secondsum)\n",
    "        for i in range(0, np.size(x)):\n",
    "            conv[i] = abs(xnew[i] - xold[i])\n",
    "            rel[i] = abs(xnew[i] - xold[i])/(xnew[i])\n",
    "    return xnew, iterations"
   ]
  },
  {
   "cell_type": "code",
   "execution_count": 5,
   "metadata": {
    "collapsed": false
   },
   "outputs": [],
   "source": [
    "def SOR(A,x,b,w,tol=0.000001,sc=0.000001,iteration = 1000):\n",
    "    # A,x,b - matrices defining the problem\n",
    "    # w - variable for SOR\n",
    "    # tol - absolute tolerance for convergence (default set to 10^-6)\n",
    "    # sc - stopping criterion (relative error) for convergence (default set to 10^-6)\n",
    "    # iteration - (optional) choose how many iterations to run\n",
    "    # iteration will stop at the first condition that is satisfied whether it be \n",
    "    # absolute tolerance or stopping criterion. \n",
    "    # If you want to pick a specific criteria for convergence,set the others to -1\n",
    "    xnew = np.copy(x)\n",
    "    conv = np.ones(np.size(x))\n",
    "    rel = np.ones(np.size(x))\n",
    "    iterations = 0\n",
    "    while np.amax(conv) > tol and np.amax(rel) > sc and iterations != iteration:\n",
    "        xold = np.copy(xnew)\n",
    "        iterations = iterations + 1\n",
    "        for i in range(np.size(x)):\n",
    "            firstsum = 0\n",
    "            secondsum = 0\n",
    "            for j in range(0, i):\n",
    "                firstsum = firstsum + A[i][j]*xnew[j]\n",
    "            for j in range(i+1, np.size(x)):\n",
    "                secondsum = secondsum + A[i][j]*xold[j]\n",
    "            xnew[i] = (1-w)*xold[i] + 1.0*w/A[i][i]*(b[i] - firstsum - secondsum)\n",
    "        for i in range(0, np.size(x)):\n",
    "            conv[i] = abs(xnew[i] - xold[i])\n",
    "            rel[i] = abs(xnew[i] - xold[i])/(xnew[i])\n",
    "    return xnew, iterations"
   ]
  },
  {
   "cell_type": "code",
   "execution_count": 12,
   "metadata": {
    "collapsed": false
   },
   "outputs": [
    {
     "name": "stdout",
     "output_type": "stream",
     "text": [
      "[[ 4. -1.  0.  0.  0.]\n",
      " [-1.  4. -1.  0.  0.]\n",
      " [ 0. -1.  4. -1.  0.]\n",
      " [ 0.  0. -1.  4. -1.]\n",
      " [ 0.  0.  0. -1.  4.]]* x = [ 100.  100.  100.  100.  100.]\n",
      "\n",
      "Explicit Solution: [ 36.53846154  46.15384615  48.07692308  46.15384615  36.53846154]\n",
      "\n",
      "Jacobi: 22 iterations\n",
      "[ 36.53846125  46.15384569  48.07692251  46.15384569  36.53846125]\n",
      "Gauss-Seidel: 13 iterations\n",
      "[ 36.53846142  46.15384606  48.07692303  46.15384614  36.53846153]\n",
      "SOR: 10 iterations\n",
      "[ 36.53846152  46.15384616  48.07692305  46.15384615  36.53846154]\n",
      "\n",
      "\n",
      "Using stopping criterion of 10^-6\n",
      "Jacobi: 18 iterations\n",
      "[ 36.53845346  46.15383293  48.07690692  46.15383293  36.53845346]\n",
      "Gauss-Seidel: 11 iterations\n",
      "[ 36.53845816  46.15384362  48.07692181  46.15384568  36.53846142]\n",
      "SOR: 8 iterations\n",
      "[ 36.53846919  46.1538498   48.07692421  46.15384677  36.53846134]\n",
      "\n",
      "\n",
      "Using stopping criterion of 10^-8\n",
      "Jacobi: 23 iterations\n",
      "[ 36.53846142  46.15384594  48.07692284  46.15384594  36.53846142]\n",
      "Gauss-Seidel: 14 iterations\n",
      "[ 36.53846152  46.15384614  48.07692307  46.15384615  36.53846154]\n",
      "SOR: 10 iterations\n",
      "[ 36.53846152  46.15384616  48.07692305  46.15384615  36.53846154]\n",
      "\n",
      "\n"
     ]
    }
   ],
   "source": [
    "A = makeA(-1,4,-1,5)\n",
    "b = np.ones(5)*100\n",
    "x = np.zeros(5)\n",
    "print str(A) + \"* x = \" + str(b) + \"\\n\" \n",
    "print \"Explicit Solution: \" + str(np.dot(inv(A), b)) + \"\\n\" \n",
    "\n",
    "#Problem 4, solving the equation using an absolute tolerance of 10^-6 and w = 1.1 for SOR\n",
    "print \"Jacobi: \" + str(jacobi(A,x,b,sc = -1)[1]) + \" iterations\"\n",
    "print jacobi(A,x,b,sc = -1)[0]\n",
    "print \"Gauss-Seidel: \" + str(Gausseidel(A,x,b,sc = -1)[1]) + \" iterations\"\n",
    "print Gausseidel(A,x,b,sc = -1)[0]\n",
    "print \"SOR: \" + str(SOR(A,x,b,1.1, sc = -1)[1]) + \" iterations\"\n",
    "print SOR(A,x,b,1.1, sc = -1)[0]\n",
    "print \"\\n\"\n",
    "\n",
    "#Problem 5a, solving the equation using a stopping criterion of 10^-6 and 10^-8 ,w = 1.1 for SOR\n",
    "print \"Using stopping criterion of 10^-6\"\n",
    "print \"Jacobi: \" + str(jacobi(A,x,b,tol = -1)[1]) + \" iterations\"\n",
    "print jacobi(A,x,b,tol = -1)[0]\n",
    "print \"Gauss-Seidel: \" + str(Gausseidel(A,x,b,tol = -1)[1]) + \" iterations\"\n",
    "print Gausseidel(A,x,b,tol = -1)[0]\n",
    "print \"SOR: \" + str(SOR(A,x,b,1.1, tol = -1)[1]) + \" iterations\"\n",
    "print SOR(A,x,b,1.1, tol = -1)[0]\n",
    "print \"\\n\"\n",
    "print \"Using stopping criterion of 10^-8\"\n",
    "print \"Jacobi: \" + str(jacobi(A,x,b,tol = -1, sc = 0.00000001)[1]) + \" iterations\"\n",
    "print jacobi(A,x,b,tol = -1, sc = 0.00000001)[0]\n",
    "print \"Gauss-Seidel: \" + str(Gausseidel(A,x,b,tol = -1, sc = 0.00000001)[1]) + \" iterations\"\n",
    "print Gausseidel(A,x,b,tol = -1, sc = 0.00000001)[0] \n",
    "print \"SOR: \" + str(SOR(A,x,b,1.1, tol = -1, sc = 0.00000001)[1]) + \" iterations\"\n",
    "print SOR(A,x,b,1.1, tol = -1, sc = 0.00000001)[0] \n",
    "print \"\\n\""
   ]
  },
  {
   "cell_type": "code",
   "execution_count": 7,
   "metadata": {
    "collapsed": false
   },
   "outputs": [
    {
     "name": "stdout",
     "output_type": "stream",
     "text": [
      "Optimal w value = 1.06\n"
     ]
    },
    {
     "data": {
      "text/plain": [
       "[0, 2, 0, 100]"
      ]
     },
     "execution_count": 7,
     "metadata": {},
     "output_type": "execute_result"
    },
    {
     "data": {
      "image/png": "[encoded data removed]",
      "text/plain": [
       "<matplotlib.figure.Figure at 0x1155e358>"
      ]
     },
     "metadata": {},
     "output_type": "display_data"
    }
   ],
   "source": [
    "# Problem 5b, experiment to determine optimal w for SOR, will try mutliple w values (0,2) to find the fastest converging\n",
    "#        SOR, which implies the optimal w. To get good resolution of the optimal w value, we will make the convergence very tight\n",
    "#        AKA tol will be very low, to make the distribution larger. \n",
    "w = np.linspace(0.01, 1.9, num=190)\n",
    "y = np.zeros(190)\n",
    "for p in range(1,191,1):\n",
    "    y[p-1] = SOR(A,x,b,p/100.0,tol = 0.000000001, sc = -1)[1]\n",
    "print \"Optimal w value = \"  + str(w[np.argmin(y)])\n",
    "%matplotlib inline\n",
    "import matplotlib.pyplot as plt\n",
    "plt.plot(w, y, 'b')\n",
    "plt.xlabel(\"w\")\n",
    "plt.ylabel(\"iterations\")\n",
    "plt.axis([0, 2, 0, 100])"
   ]
  },
  {
   "cell_type": "code",
   "execution_count": null,
   "metadata": {
    "collapsed": true
   },
   "outputs": [],
   "source": []
  }
 ],
 "metadata": {
  "kernelspec": {
   "display_name": "Python 2",
   "language": "python",
   "name": "python2"
  },
  "language_info": {
   "codemirror_mode": {
    "name": "ipython",
    "version": 2
   },
   "file_extension": ".py",
   "mimetype": "text/x-python",
   "name": "python",
   "nbconvert_exporter": "python",
   "pygments_lexer": "ipython2",
   "version": "2.7.10"
  }
 },
 "nbformat": 4,
 "nbformat_minor": 0
}
